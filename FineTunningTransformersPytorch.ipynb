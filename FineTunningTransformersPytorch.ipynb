{
 "cells": [
  {
   "cell_type": "markdown",
   "metadata": {},
   "source": [
    "***Fine-Tunning Transformers with Pytorch***"
   ]
  },
  {
   "cell_type": "markdown",
   "metadata": {},
   "source": [
    "TRAINING DATA -> MODEL -> COMPUTE LOSS -> COMPUTE GRADIENTS -> OPTIMIZE WEIGHTS\n",
    "\n",
    "REPEAT."
   ]
  },
  {
   "cell_type": "markdown",
   "metadata": {},
   "source": [
    "**Key objects in trainer architectures**\n",
    "\n",
    "- Dataset: holds the data and splits into training/testing sets\n",
    "- DataCollator: forms batches of data from datasets\n",
    "- Training arguments: keeps tracj of training arguments like saving strategy and learning rate scheduler parameters\n",
    "- Trainer_ API to the Pytorch training loop for most standard cases"
   ]
  }
 ],
 "metadata": {
  "language_info": {
   "name": "python"
  },
  "orig_nbformat": 4
 },
 "nbformat": 4,
 "nbformat_minor": 2
}
