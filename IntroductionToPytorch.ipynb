{
 "cells": [
  {
   "cell_type": "code",
   "execution_count": 1,
   "metadata": {},
   "outputs": [],
   "source": [
    "# imports\n",
    "\n",
    "import torch"
   ]
  },
  {
   "cell_type": "markdown",
   "metadata": {},
   "source": [
    "Pytorch makes deep learning more accesible and allows to define computation graphs and compute gradients."
   ]
  },
  {
   "cell_type": "markdown",
   "metadata": {},
   "source": [
    "The base object is the Tensor which are n-dimensional arrays."
   ]
  },
  {
   "cell_type": "code",
   "execution_count": 3,
   "metadata": {},
   "outputs": [
    {
     "name": "stdout",
     "output_type": "stream",
     "text": [
      "Shape of tensor([0, 1, 2, 3, 4]) is torch.Size([5]) and dimensions is 1\n"
     ]
    }
   ],
   "source": [
    "# 1-dimensional tensor\n",
    "\n",
    "one_d_tensor = torch.LongTensor([0, 1, 2, 3, 4])\n",
    "\n",
    "print(f'Shape of {one_d_tensor} is {one_d_tensor.shape} and dimensions is {one_d_tensor.dim()}')"
   ]
  },
  {
   "cell_type": "code",
   "execution_count": 4,
   "metadata": {},
   "outputs": [
    {
     "name": "stdout",
     "output_type": "stream",
     "text": [
      "Shape of tensor([[0, 1, 2],\n",
      "        [3, 4, 5]]) is torch.Size([2, 3]) and dimensions is 2\n"
     ]
    }
   ],
   "source": [
    "# 2-dimensional tensor\n",
    "\n",
    "two_d_tensor = torch.LongTensor([\n",
    "    [0, 1, 2], [3, 4, 5]\n",
    "])\n",
    "\n",
    "print(f'Shape of {two_d_tensor} is {two_d_tensor.shape} and dimensions is {two_d_tensor.dim()}')"
   ]
  },
  {
   "cell_type": "code",
   "execution_count": 6,
   "metadata": {},
   "outputs": [
    {
     "name": "stdout",
     "output_type": "stream",
     "text": [
      "Shape of tensor([[0, 1, 2, 3, 4]]) is torch.Size([1, 5]) and dimensions is 2\n"
     ]
    }
   ],
   "source": [
    "# Using the unsqueeze function\n",
    "# Adds a dimension in a certain location\n",
    "\n",
    "new_2d_tensor = one_d_tensor.unsqueeze(0)  # 0 represents the axis on which we want to add a dimension\n",
    "\n",
    "print(f'Shape of {new_2d_tensor} is {new_2d_tensor.shape} and dimensions is {new_2d_tensor.dim()}')"
   ]
  },
  {
   "cell_type": "code",
   "execution_count": 8,
   "metadata": {},
   "outputs": [
    {
     "data": {
      "text/plain": [
       "array([[0, 1, 2, 3, 4]], dtype=int64)"
      ]
     },
     "execution_count": 8,
     "metadata": {},
     "output_type": "execute_result"
    }
   ],
   "source": [
    "# Converting from pytorch to numpy\n",
    "\n",
    "new_2d_tensor.numpy()"
   ]
  },
  {
   "cell_type": "code",
   "execution_count": 11,
   "metadata": {},
   "outputs": [
    {
     "data": {
      "text/plain": [
       "array([[0, 1, 2, 3, 4]], dtype=int64)"
      ]
     },
     "execution_count": 11,
     "metadata": {},
     "output_type": "execute_result"
    }
   ],
   "source": [
    "# Converting to numpy while detaching the extra dimension\n",
    "\n",
    "new_2d_tensor.detach().numpy()  # Explicitly detach the tensor from the computation graph\n",
    "                                # then convert to numpy array"
   ]
  }
 ],
 "metadata": {
  "kernelspec": {
   "display_name": ".venv",
   "language": "python",
   "name": "python3"
  },
  "language_info": {
   "codemirror_mode": {
    "name": "ipython",
    "version": 3
   },
   "file_extension": ".py",
   "mimetype": "text/x-python",
   "name": "python",
   "nbconvert_exporter": "python",
   "pygments_lexer": "ipython3",
   "version": "3.11.4"
  },
  "orig_nbformat": 4
 },
 "nbformat": 4,
 "nbformat_minor": 2
}
