{
 "cells": [
  {
   "cell_type": "markdown",
   "metadata": {},
   "source": [
    "***Language Models***"
   ]
  },
  {
   "cell_type": "markdown",
   "metadata": {},
   "source": [
    "**Language modelling tasks**\n",
    "\n",
    "In a language modelling taks a model is trained to predict a missing word or token in a sequence.\n",
    "\n",
    "Two kinds of models:\n",
    "- Autoregressive\n",
    "- Autoenconding\n",
    "\n",
    "Consider the following example:\n",
    "\n",
    "\"If you don't ____ at the sign, you will get a ticket.\"\n",
    "\n",
    "In an auto-encoding model the goal is to learn representations of he entire sequence by predicting tokens fiven both the past and the future tokens.\n",
    "\n",
    "In an auto-regressive model the goal is to predict a future token word given either the past tokens or the future tokens but not both.\n",
    "\n",
    "Taking the last example we can break it down into two auto-regressive tasks:\n",
    "\n",
    "\"If you don't ___\" (forward prediction)\n",
    "\n",
    "\"___ at the sign, you will get a ticket.\" (backward prediction)"
   ]
  },
  {
   "cell_type": "markdown",
   "metadata": {},
   "source": [
    "**Auto-regressive use case**\n",
    "\n",
    "Word suggestions:\n",
    "\n",
    "\"If you don't ____\"\n",
    "\n",
    "Expected output would be \"mind\", \"want\", \"have\" however once we give it both past and future tokens the likelihood changes, this is why it is important to know whether the model we are using was trained as auto-regressive or for auto-encoding tasks."
   ]
  },
  {
   "cell_type": "markdown",
   "metadata": {},
   "source": [
    "**Regressive VS Encoding**\n",
    "\n",
    "Auto-regressive:\n",
    "\n",
    "- Predicting next word in a sentence (auto-complete)\n",
    "- Natural Language Generation\n",
    "- GPT family\n",
    "\n",
    "Auto-Encoding:\n",
    "\n",
    "- Comprehensive understanding and encoding of entire sequences of tokens\n",
    "- Natural Language Understanding\n",
    "- BERT"
   ]
  }
 ],
 "metadata": {
  "language_info": {
   "name": "python"
  },
  "orig_nbformat": 4
 },
 "nbformat": 4,
 "nbformat_minor": 2
}
